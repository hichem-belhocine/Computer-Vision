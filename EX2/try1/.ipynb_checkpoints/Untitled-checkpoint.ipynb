{
 "cells": [
  {
   "cell_type": "code",
   "execution_count": 33,
   "metadata": {},
   "outputs": [
    {
     "name": "stdout",
     "output_type": "stream",
     "text": [
      "Bedroom..........\n",
      "15.4316141476\n",
      "[ 0.03909528  0.03685526  0.01146267 ...,  0.01006101  0.17421493\n",
      "  0.04307394]\n",
      "[ 0.          0.02039468  0.08131461 ...,  0.01496766  0.02666359\n",
      "  0.02689839]\n",
      "Coast ..........\n",
      "16.1825886586\n",
      "[ 0.03909528  0.03685526  0.01146267 ...,  0.01006101  0.17421493\n",
      "  0.04307394]\n",
      "[ 0.09986547  0.08421396  0.05954826 ...,  0.          0.          0.        ]\n",
      "Coast ..........\n",
      "20.0912526448\n",
      "[ 0.03909528  0.03685526  0.01146267 ...,  0.01006101  0.17421493\n",
      "  0.04307394]\n",
      "[ 0.00679577  0.          0.         ...,  0.00999273  0.02029314\n",
      "  0.01031223]\n"
     ]
    }
   ],
   "source": [
    "%matplotlib inline\n",
    "\n",
    "import numpy as np\n",
    "import scipy\n",
    "from scipy.misc import imread, imsave, imresize\n",
    "import skimage\n",
    "from skimage import data\n",
    "from matplotlib import pyplot as plt\n",
    "from skimage.util.shape import view_as_blocks\n",
    "from skimage.transform import rescale, resize, downscale_local_mean\n",
    "from skimage import feature\n",
    "from skimage.transform import warp, AffineTransform\n",
    "from skimage import io\n",
    "from PIL import Image\n",
    "import math\n",
    "from skimage.feature import hog\n",
    "\n",
    "\n",
    "def preprocess(img):\n",
    "    img = imread(img)\n",
    "    img_gray=skimage.color.rgb2gray(img)\n",
    "    resized_img=skimage.transform.resize(img_gray,(256,256))\n",
    "    return resized_img\n",
    "\n",
    "\n",
    "testImagePath = \"/Users/dsoellinger/Downloads/scene_categories/bedroom/image_0001.jpg\" \n",
    "\n",
    "img1=preprocess(testImagePath)\n",
    "testfeature = hog(img1, orientations=18, pixels_per_cell=(8, 8), cells_per_block=(1, 1))\n",
    "\n",
    "\n",
    "trainFeatureImg1=preprocess(\"/Users/dsoellinger/Downloads/scene_categories/bedroom/image_0004.jpg\")\n",
    "trainFeature1 = hog(trainFeatureImg1, orientations=18, pixels_per_cell=(8, 8), cells_per_block=(1, 1))\n",
    "\n",
    "trainFeatureImg2=preprocess(\"/Users/dsoellinger/Downloads/scene_categories/MITcoast/image_0001.jpg\")\n",
    "trainFeature2 = hog(trainFeatureImg2, orientations=18, pixels_per_cell=(8, 8), cells_per_block=(1, 1))\n",
    "\n",
    "trainFeatureImg3=preprocess(\"/Users/dsoellinger/Downloads/scene_categories/MITcoast/image_0002.jpg\")\n",
    "trainFeature3 = hog(trainFeatureImg3, orientations=18, pixels_per_cell=(8, 8), cells_per_block=(1, 1))\n",
    "\n",
    "print(\"Bedroom..........\")\n",
    "distance= np.linalg.norm(testfeature-trainFeature1)\n",
    "print(distance)\n",
    "print(testfeature)\n",
    "print(trainFeature1)\n",
    "\n",
    "print(\"Coast ..........\")\n",
    "distance= np.linalg.norm(testfeature-trainFeature2)\n",
    "print(distance)\n",
    "print(testfeature)\n",
    "print(trainFeature2)\n",
    "\n",
    "print(\"Coast ..........\")\n",
    "distance= np.linalg.norm(testfeature-trainFeature3)\n",
    "print(distance)\n",
    "print(testfeature)\n",
    "print(trainFeature3)\n"
   ]
  },
  {
   "cell_type": "code",
   "execution_count": null,
   "metadata": {},
   "outputs": [],
   "source": []
  }
 ],
 "metadata": {
  "kernelspec": {
   "display_name": "Python 2",
   "language": "python",
   "name": "python2"
  },
  "language_info": {
   "codemirror_mode": {
    "name": "ipython",
    "version": 2
   },
   "file_extension": ".py",
   "mimetype": "text/x-python",
   "name": "python",
   "nbconvert_exporter": "python",
   "pygments_lexer": "ipython2",
   "version": "2.7.14"
  }
 },
 "nbformat": 4,
 "nbformat_minor": 2
}
